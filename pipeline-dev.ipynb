{
 "cells": [
  {
   "cell_type": "markdown",
   "id": "d9ecf9c4",
   "metadata": {},
   "source": [
    "# Testing of UNet Image-generation Pipeline\n",
    "\n",
    "- main package: pipeline_utilities"
   ]
  },
  {
   "cell_type": "code",
   "execution_count": 10,
   "id": "232b8634",
   "metadata": {},
   "outputs": [],
   "source": [
    "import os\n",
    "import sys\n",
    "import pipeline_utilities as pu\n",
    "import matplotlib.pyplot as plt\n",
    "\n",
    "#start = int(sys.argv[1])\n",
    "#end = int(sys.argv[2])\n",
    "start, end = 0, 1  # change values during testing\n",
    "\n",
    "hbn_dir = '/oak/stanford/groups/jyeatman/HBN/BIDS_curated/derivatives/freesurfer'\n",
    "hbn_subjects = [s for s in os.listdir(hbn_dir) if s[:4]=='sub-']\n",
    "\n",
    "save_base_dir = '/scratch/groups/jyeatman/samjohns-projects/data/atlas'\n",
    "save_x_subdir = 'xs'\n",
    "save_y_subdir = 'ys'\n",
    "save_xdir = os.path.join(save_base_dir, save_x_subdir)\n",
    "save_ydir = os.path.join(save_base_dir, save_y_subdir)\n",
    "\n",
    "save_px2v_subdir = 'px2v'\n",
    "save_pxcoord_subdir = 'pxcoord'\n",
    "save_px2v_dir = os.path.join(save_base_dir, save_px2v_subdir)\n",
    "save_pxcoord_dir = os.path.join(save_base_dir, save_pxcoord_subdir)\n",
    "\n",
    "os.makedirs(save_base_dir, exist_ok=True)\n",
    "os.makedirs(save_xdir, exist_ok=True)\n",
    "os.makedirs(save_ydir, exist_ok=True)\n",
    "os.makedirs(save_px2v_dir, exist_ok=True)\n",
    "os.makedirs(save_pxcoord_dir, exist_ok=True)\n",
    "\n",
    "parc_fn = 'lh.aparc.a2009s.annot'  # Destrieux parcellation\n",
    "curv_fn = 'lh.curv'\n",
    "mesh_fn = 'lh.inflated'\n",
    "\n",
    "run = False\n",
    "if run:\n",
    "    \n",
    "    for sub in hbn_subjects[start:end]:\n",
    "\n",
    "        subj_fp = os.path.join(hbn_dir, sub)\n",
    "        subject_data = pu.get_freesurfer_subject_with_parc(subj_fp,\n",
    "                                                        [mesh_fn], \n",
    "                                                        [curv_fn], \n",
    "                                                        label_files = [parc_fn])\n",
    "\n",
    "        mesh = subject_data[mesh_fn]\n",
    "        curv = subject_data[curv_fn]\n",
    "        parc = subject_data[parc_fn]\n",
    "\n",
    "        # pipeline (below):\n",
    "        # 1. create plt figures\n",
    "        # 2. process (downsample, grayscale, extract channels) -> np array\n",
    "        # 3. get px2v data from coordinate images\n",
    "\n",
    "        nangles_inner = 5\n",
    "        nangles_total = 10\n",
    "        nangle_iterations = nangles_total // nangles_inner\n",
    "\n",
    "        for i in range(nangle_iterations):\n",
    "            fig_dict = pu.make_subject_images(mesh, curv, parc, nangles=nangles_inner) \n",
    "            np_dict = pu.process_figs(fig_dict)\n",
    "            np_px_dict = pu.px2v_from_np_dict(np_dict, \n",
    "                                              mesh_coords=mesh.coordinates)\n",
    "            plt.close('all')  # clear all matplotlib plots\n",
    "            pu.save_subject_npys(sub, np_px_dict, save_xdir, save_ydir, \n",
    "                                 save_px2v_dir=save_px2v_dir, \n",
    "                                 save_pxcoord_dir=save_pxcoord_dir)\n",
    "            del np_dict\n",
    "            del np_px_dict"
   ]
  },
  {
   "cell_type": "markdown",
   "id": "94284a3a",
   "metadata": {},
   "source": [
    "# Visualize outputs"
   ]
  },
  {
   "cell_type": "code",
   "execution_count": 65,
   "id": "2530ee80",
   "metadata": {},
   "outputs": [],
   "source": [
    "import nbutils\n",
    "import pandas as pd\n",
    "import numpy as np\n",
    "import pickle\n",
    "\n",
    "import matplotlib.pyplot as plt\n",
    "from nilearn import plotting"
   ]
  },
  {
   "cell_type": "code",
   "execution_count": 16,
   "id": "8beb4aa2",
   "metadata": {},
   "outputs": [],
   "source": [
    "xs_df = nbutils.get_subjects_df(save_xdir)\n",
    "ys_df = nbutils.get_subjects_df(save_ydir)\n",
    "px_df = nbutils.get_subjects_df(save_px2v_dir)"
   ]
  },
  {
   "cell_type": "code",
   "execution_count": 25,
   "id": "d9f7b5df",
   "metadata": {},
   "outputs": [],
   "source": [
    "px_df = px_df.rename({'Filename': 'Filename_px'}, axis=1)"
   ]
  },
  {
   "cell_type": "code",
   "execution_count": 31,
   "id": "ef6329a8",
   "metadata": {},
   "outputs": [],
   "source": [
    "df = pd.merge(xs_df, ys_df, on=['EID', 'Angle1', 'Angle2'], how='inner')\n",
    "df = pd.merge(df, px_df, on=['EID', 'Angle1', 'Angle2'], how='inner')"
   ]
  },
  {
   "cell_type": "code",
   "execution_count": 54,
   "id": "514dad14",
   "metadata": {},
   "outputs": [],
   "source": [
    "test_ind = 1\n",
    "row = df.iloc[test_ind]"
   ]
  },
  {
   "cell_type": "code",
   "execution_count": 64,
   "id": "bab05097",
   "metadata": {},
   "outputs": [],
   "source": [
    "eid = row['EID']\n",
    "x_fn = row['Filename_x']\n",
    "y_fn = row['Filename_y']\n",
    "px_fn = row['Filename_px']"
   ]
  },
  {
   "cell_type": "code",
   "execution_count": 56,
   "id": "5dcd11fb",
   "metadata": {},
   "outputs": [],
   "source": [
    "with open(f'{save_xdir}/{x_fn}', 'rb') as f:\n",
    "    x = np.load(f)\n",
    "\n",
    "with open(f'{save_ydir}/{y_fn}', 'rb') as f:\n",
    "    y = np.load(f)\n",
    "\n",
    "with open(f'{save_px2v_dir}/{px_fn}', 'rb') as f:\n",
    "    px2v = pickle.load(f)"
   ]
  },
  {
   "cell_type": "code",
   "execution_count": 57,
   "id": "3c56e736",
   "metadata": {},
   "outputs": [
    {
     "data": {
      "text/plain": [
       "(256, 256, 4)"
      ]
     },
     "execution_count": 57,
     "metadata": {},
     "output_type": "execute_result"
    }
   ],
   "source": [
    "x.shape"
   ]
  },
  {
   "cell_type": "code",
   "execution_count": 61,
   "id": "161df887",
   "metadata": {},
   "outputs": [
    {
     "data": {
      "text/plain": [
       "<matplotlib.image.AxesImage at 0x7f707b9febb0>"
      ]
     },
     "execution_count": 61,
     "metadata": {},
     "output_type": "execute_result"
    },
    {
     "data": {
      "image/png": "[encoded data removed]",
      "text/plain": [
       "<Figure size 432x288 with 1 Axes>"
      ]
     },
     "metadata": {
      "needs_background": "light"
     },
     "output_type": "display_data"
    }
   ],
   "source": [
    "plt.imshow(x[:, :, 3], cmap='gray')"
   ]
  },
  {
   "cell_type": "code",
   "execution_count": 62,
   "id": "1a6f5025",
   "metadata": {},
   "outputs": [
    {
     "data": {
      "text/plain": [
       "<matplotlib.image.AxesImage at 0x7f707b928e50>"
      ]
     },
     "execution_count": 62,
     "metadata": {},
     "output_type": "execute_result"
    },
    {
     "data": {
      "image/png": "[encoded data removed]",
      "text/plain": [
       "<Figure size 432x288 with 1 Axes>"
      ]
     },
     "metadata": {
      "needs_background": "light"
     },
     "output_type": "display_data"
    }
   ],
   "source": [
    "plt.imshow(y, cmap='gray')"
   ]
  },
  {
   "cell_type": "code",
   "execution_count": null,
   "id": "b80fd6d2",
   "metadata": {},
   "outputs": [],
   "source": [
    "plotting.plot_"
   ]
  }
 ],
 "metadata": {
  "kernelspec": {
   "display_name": "Python [conda env:torch-ni-ny]",
   "language": "python",
   "name": "conda-env-torch-ni-ny-py"
  },
  "language_info": {
   "codemirror_mode": {
    "name": "ipython",
    "version": 3
   },
   "file_extension": ".py",
   "mimetype": "text/x-python",
   "name": "python",
   "nbconvert_exporter": "python",
   "pygments_lexer": "ipython3",
   "version": "3.9.7"
  }
 },
 "nbformat": 4,
 "nbformat_minor": 5
}
